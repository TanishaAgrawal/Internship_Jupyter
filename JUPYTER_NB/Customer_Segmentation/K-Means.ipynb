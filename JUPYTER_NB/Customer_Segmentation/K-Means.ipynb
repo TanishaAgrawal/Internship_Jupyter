{
 "cells": [
  {
   "cell_type": "code",
   "execution_count": 2,
   "metadata": {},
   "outputs": [],
   "source": [
    "from pyspark.ml.clustering import KMeans\n",
    "from pyspark.ml.evaluation import ClusteringEvaluator\n",
    "from pyspark.ml.feature import VectorAssembler, StringIndexer\n",
    "\n",
    "from pyspark.sql import SparkSession\n",
    "\n",
    "if __name__ == \"__main__\":\n",
    "    spark = SparkSession\\\n",
    "        .builder\\\n",
    "        .appName(\"KMeansExample\")\\\n",
    "        .getOrCreate()\n",
    "\n",
    "df = spark.read.csv('AppleStore.csv',inferSchema=True, header=True)"
   ]
  },
  {
   "cell_type": "code",
   "execution_count": 3,
   "metadata": {},
   "outputs": [
    {
     "name": "stdout",
     "output_type": "stream",
     "text": [
      "root\n",
      " |-- _c0: integer (nullable = true)\n",
      " |-- id: integer (nullable = true)\n",
      " |-- track_name: string (nullable = true)\n",
      " |-- size_bytes: long (nullable = true)\n",
      " |-- currency: string (nullable = true)\n",
      " |-- price: double (nullable = true)\n",
      " |-- rating_count_tot: integer (nullable = true)\n",
      " |-- rating_count_ver: integer (nullable = true)\n",
      " |-- user_rating: double (nullable = true)\n",
      " |-- user_rating_ver: double (nullable = true)\n",
      " |-- ver: string (nullable = true)\n",
      " |-- cont_rating: string (nullable = true)\n",
      " |-- prime_genre: string (nullable = true)\n",
      " |-- sup_devices.num: integer (nullable = true)\n",
      " |-- ipadSc_urls.num: integer (nullable = true)\n",
      " |-- lang.num: integer (nullable = true)\n",
      " |-- vpp_lic: integer (nullable = true)\n",
      "\n"
     ]
    }
   ],
   "source": [
    "import pandas as pd\n",
    "import numpy as np\n",
    "df.printSchema()"
   ]
  },
  {
   "cell_type": "code",
   "execution_count": 4,
   "metadata": {},
   "outputs": [
    {
     "name": "stdout",
     "output_type": "stream",
     "text": [
      "root\n",
      " |-- _c0: integer (nullable = true)\n",
      " |-- id: integer (nullable = true)\n",
      " |-- track_name: string (nullable = true)\n",
      " |-- size_bytes: long (nullable = true)\n",
      " |-- currency: string (nullable = true)\n",
      " |-- price: double (nullable = true)\n",
      " |-- rating_count_tot: integer (nullable = true)\n",
      " |-- rating_count_ver: integer (nullable = true)\n",
      " |-- user_rating: double (nullable = true)\n",
      " |-- user_rating_ver: double (nullable = true)\n",
      " |-- ver: string (nullable = true)\n",
      " |-- cont_rating: string (nullable = true)\n",
      " |-- prime_genre: string (nullable = true)\n",
      " |-- sup_devices.num: integer (nullable = true)\n",
      " |-- ipadSc_urls.num: integer (nullable = true)\n",
      " |-- lang.num: integer (nullable = true)\n",
      " |-- vpp_lic: integer (nullable = true)\n",
      " |-- primeGenreIndexed: double (nullable = false)\n",
      "\n"
     ]
    }
   ],
   "source": [
    "stringIndexer = StringIndexer(inputCol=\"prime_genre\", outputCol=\"primeGenreIndexed\")\n",
    "model = stringIndexer.fit(df)\n",
    "df = model.transform(df)\n",
    "\n",
    "\n",
    "\n",
    "df.printSchema()"
   ]
  },
  {
   "cell_type": "code",
   "execution_count": 5,
   "metadata": {},
   "outputs": [],
   "source": [
    "vectorAss = VectorAssembler(inputCols=[\"rating_count_tot\"],outputCol=\"features\")\n",
    "\n",
    "df = vectorAss.transform(df)"
   ]
  },
  {
   "cell_type": "code",
   "execution_count": 6,
   "metadata": {},
   "outputs": [],
   "source": [
    "kmeans = KMeans().setK(3).setSeed(1)\n",
    "model = kmeans.fit(df)\n",
    "predictions = model.transform(df)"
   ]
  },
  {
   "cell_type": "code",
   "execution_count": 7,
   "metadata": {},
   "outputs": [
    {
     "name": "stdout",
     "output_type": "stream",
     "text": [
      "Cluster Centers: \n",
      "[6845.69734065]\n",
      "[2247896.25]\n",
      "[408677.87209302]\n",
      "+---+---------+--------------------+----------+--------+-----+----------------+----------------+-----------+---------------+-------+-----------+-----------------+---------------+---------------+--------+-------+-----------------+-----------+----------+\n",
      "|_c0|       id|          track_name|size_bytes|currency|price|rating_count_tot|rating_count_ver|user_rating|user_rating_ver|    ver|cont_rating|      prime_genre|sup_devices.num|ipadSc_urls.num|lang.num|vpp_lic|primeGenreIndexed|   features|prediction|\n",
      "+---+---------+--------------------+----------+--------+-----+----------------+----------------+-----------+---------------+-------+-----------+-----------------+---------------+---------------+--------+-------+-----------------+-----------+----------+\n",
      "|  1|281656475|     PAC-MAN Premium| 100788224|     USD| 3.99|           21292|              26|        4.0|            4.5|  6.3.5|         4+|            Games|             38|              5|      10|      1|              0.0|  [21292.0]|         0|\n",
      "|  2|281796108|Evernote - stay o...| 158578688|     USD|  0.0|          161065|              26|        4.0|            3.5|  8.2.2|         4+|     Productivity|             37|              5|      23|      1|              6.0| [161065.0]|         0|\n",
      "|  3|281940292|WeatherBug - Loca...| 100524032|     USD|  0.0|          188583|            2822|        3.5|            4.5|  5.0.0|         4+|          Weather|             37|              5|       3|      1|             16.0| [188583.0]|         0|\n",
      "|  4|282614216|eBay: Best App to...| 128512000|     USD|  0.0|          262241|             649|        4.0|            4.5| 5.10.0|        12+|         Shopping|             37|              5|       9|      1|             10.0| [262241.0]|         2|\n",
      "|  5|282935706|               Bible|  92774400|     USD|  0.0|          985920|            5320|        4.5|            5.0|  7.5.1|         4+|        Reference|             37|              5|      45|      1|             17.0| [985920.0]|         2|\n",
      "|  6|283619399|    Shanghai Mahjong|  10485713|     USD| 0.99|            8253|            5516|        4.0|            4.0|    1.8|         4+|            Games|             47|              5|       1|      1|              0.0|   [8253.0]|         0|\n",
      "|  7|283646709|PayPal - Send and...| 227795968|     USD|  0.0|          119487|             879|        4.0|            4.5| 6.12.0|         4+|          Finance|             37|              0|      19|      1|             13.0| [119487.0]|         0|\n",
      "|  8|284035177|Pandora - Music &...| 130242560|     USD|  0.0|         1126879|            3594|        4.0|            4.5|  8.4.1|        12+|            Music|             37|              4|       1|      1|              9.0|[1126879.0]|         2|\n",
      "|  9|284666222|PCalc - The Best ...|  49250304|     USD| 9.99|            1117|               4|        4.5|            5.0|  3.6.6|         4+|        Utilities|             37|              5|       1|      1|              4.0|   [1117.0]|         0|\n",
      "| 10|284736660|         Ms. PAC-MAN|  70023168|     USD| 3.99|            7885|              40|        4.0|            4.0|  4.0.4|         4+|            Games|             38|              0|      10|      1|              0.0|   [7885.0]|         0|\n",
      "| 11|284791396|Solitaire by Mobi...|  49618944|     USD| 4.99|           76720|            4017|        4.5|            4.5| 4.10.1|         4+|            Games|             38|              4|      11|      1|              0.0|  [76720.0]|         0|\n",
      "| 12|284815117|    SCRABBLE Premium| 227547136|     USD| 7.99|          105776|             166|        3.5|            2.5| 5.19.0|         4+|            Games|             37|              0|       6|      1|              0.0| [105776.0]|         0|\n",
      "| 13|284815942|Google – Search m...| 179979264|     USD|  0.0|          479440|             203|        3.5|            4.0|   27.0|        17+|        Utilities|             37|              4|      33|      1|              4.0| [479440.0]|         2|\n",
      "| 14|284847138|Bank of America -...| 160925696|     USD|  0.0|          119773|            2336|        3.5|            4.5|  7.3.8|         4+|          Finance|             37|              0|       2|      1|             13.0| [119773.0]|         0|\n",
      "| 15|284862767|            FreeCell|  55153664|     USD| 4.99|            6340|             668|        4.5|            4.5|  4.0.3|         4+|            Games|             38|              5|       2|      1|              0.0|   [6340.0]|         0|\n",
      "| 16|284876795|TripAdvisor Hotel...| 207907840|     USD|  0.0|           56194|              87|        4.0|            3.5|   21.1|         4+|           Travel|             37|              1|      26|      1|             14.0|  [56194.0]|         0|\n",
      "| 17|284882215|            Facebook| 389879808|     USD|  0.0|         2974676|             212|        3.5|            3.5|   95.0|         4+|Social Networking|             37|              1|      29|      1|              7.0|[2974676.0]|         1|\n",
      "| 18|284910350|Yelp - Nearby Res...| 167407616|     USD|  0.0|          223885|            3726|        4.0|            4.5|11.15.0|        12+|           Travel|             37|              5|      18|      1|             14.0| [223885.0]|         2|\n",
      "| 20|284993459|Shazam - Discover...| 147093504|     USD|  0.0|          402925|             136|        4.0|            4.5| 11.0.3|        12+|            Music|             37|              3|      16|      1|              9.0| [402925.0]|         2|\n",
      "| 21|285005463|Crash Bandicoot N...|  10735026|     USD| 2.99|           31456|            4178|        4.0|            3.5|  1.0.0|         4+|            Games|             47|              0|       1|      1|              0.0|  [31456.0]|         0|\n",
      "+---+---------+--------------------+----------+--------+-----+----------------+----------------+-----------+---------------+-------+-----------+-----------------+---------------+---------------+--------+-------+-----------------+-----------+----------+\n",
      "only showing top 20 rows\n",
      "\n"
     ]
    }
   ],
   "source": [
    "centers = model.clusterCenters()\n",
    "print(\"Cluster Centers: \")\n",
    "for center in centers:\n",
    "    print(center)\n",
    "predictions.show()"
   ]
  },
  {
   "cell_type": "code",
   "execution_count": 8,
   "metadata": {},
   "outputs": [
    {
     "name": "stdout",
     "output_type": "stream",
     "text": [
      "+----------+-----+\n",
      "|prediction|count|\n",
      "+----------+-----+\n",
      "|         1|    4|\n",
      "|         2|   86|\n",
      "|         0| 7107|\n",
      "+----------+-----+\n",
      "\n"
     ]
    }
   ],
   "source": [
    "numPred = predictions.groupby('prediction').count()\n",
    "\n",
    "numPred.show()"
   ]
  },
  {
   "cell_type": "code",
   "execution_count": 9,
   "metadata": {},
   "outputs": [],
   "source": [
    "numPredDF = predictions.toPandas()\n",
    "numPrediction = numPredDF[['prediction']]\n",
    "numPrediction\n",
    "\n",
    "numPredNP = numPrediction.values\n",
    "numPredNP = numPredNP.ravel()"
   ]
  },
  {
   "cell_type": "code",
   "execution_count": 10,
   "metadata": {},
   "outputs": [
    {
     "name": "stdout",
     "output_type": "stream",
     "text": [
      "+-----------------+---------------------+---------+\n",
      "|      prime_genre|avg(rating_count_tot)|count(id)|\n",
      "+-----------------+---------------------+---------+\n",
      "|        Education|   2239.2295805739514|      453|\n",
      "|       Navigation|    4449.688888888889|       45|\n",
      "|    Entertainment|    5981.349624060151|      532|\n",
      "|           Sports|    11575.87610619469|      113|\n",
      "|     Food & Drink|    5174.639344262295|       61|\n",
      "|    Photo & Video|     6489.35549132948|      346|\n",
      "|           Travel|   6005.2531645569625|       79|\n",
      "|          Finance|    6693.588235294118|      102|\n",
      "|Social Networking|             12213.65|      160|\n",
      "|             Book|   2900.6576576576576|      111|\n",
      "|         Shopping|             13258.75|      120|\n",
      "|        Reference|    7117.047619047619|       63|\n",
      "| Health & Fitness|    5072.078651685393|      178|\n",
      "|        Utilities|    4950.558704453441|      247|\n",
      "|     Productivity|   8051.3258426966295|      178|\n",
      "|            Games|    7277.706144957983|     3808|\n",
      "|            Music|    9541.820895522387|      134|\n",
      "|        Lifestyle|   3806.4685314685316|      143|\n",
      "|         Business|    4788.087719298245|       57|\n",
      "|         Catalogs|               1732.5|       10|\n",
      "+-----------------+---------------------+---------+\n",
      "only showing top 20 rows\n",
      "\n",
      "+-----------------+---------------------+---------+\n",
      "|      prime_genre|avg(rating_count_tot)|count(id)|\n",
      "+-----------------+---------------------+---------+\n",
      "|    Photo & Video|            2161558.0|        1|\n",
      "|Social Networking|            2974676.0|        1|\n",
      "|            Games|            1927675.5|        2|\n",
      "+-----------------+---------------------+---------+\n",
      "\n",
      "+-----------------+---------------------+---------+\n",
      "|      prime_genre|avg(rating_count_tot)|count(id)|\n",
      "+-----------------+---------------------+---------+\n",
      "|       Navigation|             345046.0|        1|\n",
      "|    Entertainment|    282813.3333333333|        3|\n",
      "|           Sports|             290996.0|        1|\n",
      "|     Food & Drink|             281240.0|        2|\n",
      "|    Photo & Video|             301035.5|        2|\n",
      "|           Travel|             335035.0|        2|\n",
      "|          Finance|             233105.0|        2|\n",
      "|Social Networking|    444909.3333333333|        6|\n",
      "|             Book|             252076.0|        1|\n",
      "|         Shopping|             340010.0|        2|\n",
      "|        Reference|             985920.0|        1|\n",
      "| Health & Fitness|             440770.5|        2|\n",
      "|        Utilities|             479440.0|        1|\n",
      "|            Games|   409800.67307692306|       52|\n",
      "|            Music|            675398.75|        4|\n",
      "|        Lifestyle|             342969.0|        1|\n",
      "|          Weather|             352137.0|        2|\n",
      "|             News|             354058.0|        1|\n",
      "+-----------------+---------------------+---------+\n",
      "\n"
     ]
    }
   ],
   "source": [
    "predictions.createOrReplaceTempView(\"predFile\")\n",
    "\n",
    "df = spark.sql(\"select prime_genre,avg(rating_count_tot),count(id) from predFile where prediction = 0 group by prime_genre\")\n",
    "df.show() \n",
    "\n",
    "df = spark.sql(\"select prime_genre,avg(rating_count_tot),count(id) from predFile where prediction = 1 group by prime_genre\")\n",
    "df.show()\n",
    "\n",
    "df = spark.sql(\"select prime_genre,avg(rating_count_tot),count(id) from predFile where prediction = 2 group by prime_genre\")\n",
    "df.show()\n",
    "\n",
    "#df = spark.sql(\"select appName,appNameIndexed,avg(dataUsage),count(phoneNumber) from predFile where prediction = 3 group by appName,appNameIndexed\")\n",
    "#df.show()\n",
    "\n",
    "#df = spark.sql(\"select distinct(appName),avg(dataUsage),count(phoneNumber) from predFile where prediction = 4 group by appName\")\n",
    "#df.show()\n",
    "\n",
    "#df = spark.sql(\"select distinct(appName),avg(dataUsage),count(phoneNumber) from predFile where prediction = 5 group by appName\")\n",
    "#df.show()"
   ]
  },
  {
   "cell_type": "code",
   "execution_count": 11,
   "metadata": {},
   "outputs": [
    {
     "name": "stdout",
     "output_type": "stream",
     "text": [
      "+----------+---------------------+---------------------+---------------------+\n",
      "|prediction|min(rating_count_tot)|max(rating_count_tot)|avg(rating_count_tot)|\n",
      "+----------+---------------------+---------------------+---------------------+\n",
      "|         1|              1724546|              2974676|           2247896.25|\n",
      "|         2|               208648|              1126879|   408677.87209302327|\n",
      "|         0|                    0|               200047|    6845.697340650063|\n",
      "+----------+---------------------+---------------------+---------------------+\n",
      "\n"
     ]
    }
   ],
   "source": [
    "df_rating = spark.sql(\"select prediction,min(rating_count_tot),max(rating_count_tot),avg(rating_count_tot) from predFile group by prediction\")\n",
    "df_rating.show()"
   ]
  },
  {
   "cell_type": "code",
   "execution_count": null,
   "metadata": {
    "collapsed": true
   },
   "outputs": [],
   "source": []
  }
 ],
 "metadata": {
  "kernelspec": {
   "display_name": "Python 3",
   "language": "python",
   "name": "python3"
  },
  "language_info": {
   "codemirror_mode": {
    "name": "ipython",
    "version": 3
   },
   "file_extension": ".py",
   "mimetype": "text/x-python",
   "name": "python",
   "nbconvert_exporter": "python",
   "pygments_lexer": "ipython3",
   "version": "3.6.4"
  }
 },
 "nbformat": 4,
 "nbformat_minor": 2
}
