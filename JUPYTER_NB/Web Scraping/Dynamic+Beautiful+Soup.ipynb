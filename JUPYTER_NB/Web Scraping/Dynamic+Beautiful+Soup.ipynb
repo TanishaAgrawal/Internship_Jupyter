{
 "cells": [
  {
   "cell_type": "markdown",
   "metadata": {},
   "source": [
    "# Beautiful Soup"
   ]
  },
  {
   "cell_type": "markdown",
   "metadata": {},
   "source": [
    "### Importing Files"
   ]
  },
  {
   "cell_type": "code",
   "execution_count": 1,
   "metadata": {
    "collapsed": true
   },
   "outputs": [],
   "source": [
    "from googlesearch import search\n",
    "import urllib\n",
    "from bs4 import BeautifulSoup\n",
    "import urllib.request\n",
    "import pandas as pd"
   ]
  },
  {
   "cell_type": "markdown",
   "metadata": {},
   "source": [
    "### Extracting Sim Info and Price From Google Via GoogleSearch and Storing it in a Data Frame"
   ]
  },
  {
   "cell_type": "code",
   "execution_count": 6,
   "metadata": {},
   "outputs": [
    {
     "name": "stdout",
     "output_type": "stream",
     "text": [
      "How many phones do you wish to enter?3\n",
      "Enter Your Choice\tiphone x\n",
      "https://www.gsmarena.com/apple_iphone_x-8858.php\n",
      "Enter Your Choice\tiphone 8\n",
      "https://www.gsmarena.com/apple_iphone_8-8573.php\n",
      "Enter Your Choice\tgalaxy s9\n",
      "https://www.gsmarena.com/samsung_galaxy_s9-8966.php\n",
      "['Nano-SIM', 'Nano-SIM', 'Single SIM (Nano-SIM) or Hybrid Dual SIM (Nano-SIM, dual stand-by)']\n",
      "['About 1000 EUR', 'About 700 EUR', 'About 840 EUR']\n",
      "            Price                                                Sim\n",
      "0  About 1000 EUR                                           Nano-SIM\n",
      "1   About 700 EUR                                           Nano-SIM\n",
      "2   About 840 EUR  Single SIM (Nano-SIM) or Hybrid Dual SIM (Nano...\n"
     ]
    }
   ],
   "source": [
    "sim_d=[]\n",
    "price_d=[]\n",
    "n=int(input('How many phones do you wish to enter?'))\n",
    "while n>0:\n",
    "    b = \": gsmarena.com\"\n",
    "    a = input('Enter Your Choice\\t')\n",
    "    c = a+b\n",
    "    for url in search(c,num =1, stop = 1):\n",
    "        print (url)\n",
    "    quote_page = url\n",
    "    page = urllib.request.urlopen(quote_page)\n",
    "    soup = BeautifulSoup(page, 'html.parser')\n",
    "    Sim_box = soup.find('td', attrs={'data-spec': 'sim'})\n",
    "    sim = Sim_box.text.strip()\n",
    "    Price_box = soup.find('td', attrs={'data-spec': 'price'})\n",
    "    price = Price_box.text.strip()\n",
    "    sim_d.append(sim)\n",
    "    price_d.append(price)\n",
    "    n=n-1\n",
    "print(sim_d)\n",
    "print(price_d)\n",
    "final_df=pd.DataFrame({'Sim':sim_d, 'Price':price_d})\n",
    "print(final_df)\n",
    "        \n",
    "\n",
    "   \n",
    "    "
   ]
  }
 ],
 "metadata": {
  "kernelspec": {
   "display_name": "Python 3",
   "language": "python",
   "name": "python3"
  },
  "language_info": {
   "codemirror_mode": {
    "name": "ipython",
    "version": 3
   },
   "file_extension": ".py",
   "mimetype": "text/x-python",
   "name": "python",
   "nbconvert_exporter": "python",
   "pygments_lexer": "ipython3",
   "version": "3.6.4"
  }
 },
 "nbformat": 4,
 "nbformat_minor": 2
}
