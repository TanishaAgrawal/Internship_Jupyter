{
 "cells": [
  {
   "cell_type": "code",
   "execution_count": 8,
   "metadata": {
    "collapsed": true
   },
   "outputs": [],
   "source": [
    "from pyspark.sql import SparkSession\n",
    "from pyspark.ml import Pipeline\n",
    "from pyspark.ml.classification import RandomForestClassifier\n",
    "from pyspark.ml.feature import StringIndexer, VectorIndexer, IndexToString\n",
    "from pyspark.ml.evaluation import MulticlassClassificationEvaluator\n",
    "from pyspark.ml.feature import VectorAssembler\n",
    "from pyspark.ml.feature import ChiSqSelector\n",
    "from pyspark.ml.linalg import Vectors\n",
    "from pyspark import SparkContext"
   ]
  },
  {
   "cell_type": "code",
   "execution_count": 9,
   "metadata": {},
   "outputs": [],
   "source": [
    "spark = SparkSession \\\n",
    ".builder \\\n",
    ".appName(\"customer churn example\") \\\n",
    ".config(\"spark.some.config.option\", \"some-value\") \\\n",
    ".getOrCreate()\n"
   ]
  },
  {
   "cell_type": "code",
   "execution_count": 10,
   "metadata": {},
   "outputs": [
    {
     "name": "stdout",
     "output_type": "stream",
     "text": [
      "+---+-------+-------+---------+--------+------+----------+------+------+-------+------+------+-------+------+-------+-------+------+------+--------+----+-------+\n",
      "| st| acclen| arcode|    phnum| intplan| voice|nummailmes| tdmin| tdcal| tdchar| temin| tecal| tecahr| tnmin| tn cal| tnchar| timin| tical| tichar |ncsc|  label|\n",
      "+---+-------+-------+---------+--------+------+----------+------+------+-------+------+------+-------+------+-------+-------+------+------+--------+----+-------+\n",
      "| KS|    128|    415| 382-4657|      no|   yes|        25| 265.1|   110|  45.07| 197.4|    99|  16.78| 244.7|     91|  11.01|  10.0|     3|     2.7|   1| False.|\n",
      "| OH|    107|    415| 371-7191|      no|   yes|        26| 161.6|   123|  27.47| 195.5|   103|  16.62| 254.4|    103|  11.45|  13.7|     3|     3.7|   1| False.|\n",
      "| NJ|    137|    415| 358-1921|      no|    no|         0| 243.4|   114|  41.38| 121.2|   110|   10.3| 162.6|    104|   7.32|  12.2|     5|    3.29|   0| False.|\n",
      "| OH|     84|    408| 375-9999|     yes|    no|         0| 299.4|    71|   50.9|  61.9|    88|   5.26| 196.9|     89|   8.86|   6.6|     7|    1.78|   2| False.|\n",
      "+---+-------+-------+---------+--------+------+----------+------+------+-------+------+------+-------+------+-------+-------+------+------+--------+----+-------+\n",
      "only showing top 4 rows\n",
      "\n"
     ]
    }
   ],
   "source": [
    "df = spark.read.csv(\"/Users/Mudit/churn_train.csv\", header = True, inferSchema = True)\n",
    "df.show(4)"
   ]
  },
  {
   "cell_type": "code",
   "execution_count": 11,
   "metadata": {},
   "outputs": [
    {
     "name": "stdout",
     "output_type": "stream",
     "text": [
      "root\n",
      " |-- st: string (nullable = true)\n",
      " |--  acclen: integer (nullable = true)\n",
      " |--  arcode: integer (nullable = true)\n",
      " |--  phnum: string (nullable = true)\n",
      " |--  intplan: string (nullable = true)\n",
      " |--  voice: string (nullable = true)\n",
      " |-- nummailmes: integer (nullable = true)\n",
      " |--  tdmin: double (nullable = true)\n",
      " |--  tdcal: integer (nullable = true)\n",
      " |--  tdchar: double (nullable = true)\n",
      " |--  temin: double (nullable = true)\n",
      " |--  tecal: integer (nullable = true)\n",
      " |--  tecahr: double (nullable = true)\n",
      " |--  tnmin: double (nullable = true)\n",
      " |--  tn cal: integer (nullable = true)\n",
      " |--  tnchar: double (nullable = true)\n",
      " |--  timin: double (nullable = true)\n",
      " |--  tical: integer (nullable = true)\n",
      " |--  tichar : double (nullable = true)\n",
      " |-- ncsc: integer (nullable = true)\n",
      " |--  label: string (nullable = true)\n",
      "\n"
     ]
    }
   ],
   "source": [
    "df.printSchema()\n",
    "from pyspark.ml.feature import StringIndexer\n"
   ]
  },
  {
   "cell_type": "code",
   "execution_count": 12,
   "metadata": {},
   "outputs": [
    {
     "name": "stdout",
     "output_type": "stream",
     "text": [
      "root\n",
      " |-- st: string (nullable = true)\n",
      " |--  acclen: integer (nullable = true)\n",
      " |--  arcode: integer (nullable = true)\n",
      " |--  phnum: string (nullable = true)\n",
      " |--  intplan: string (nullable = true)\n",
      " |--  voice: string (nullable = true)\n",
      " |-- nummailmes: integer (nullable = true)\n",
      " |--  tdmin: double (nullable = true)\n",
      " |--  tdcal: integer (nullable = true)\n",
      " |--  tdchar: double (nullable = true)\n",
      " |--  temin: double (nullable = true)\n",
      " |--  tecal: integer (nullable = true)\n",
      " |--  tecahr: double (nullable = true)\n",
      " |--  tnmin: double (nullable = true)\n",
      " |--  tn cal: integer (nullable = true)\n",
      " |--  tnchar: double (nullable = true)\n",
      " |--  timin: double (nullable = true)\n",
      " |--  tical: integer (nullable = true)\n",
      " |--  tichar : double (nullable = true)\n",
      " |-- ncsc: integer (nullable = true)\n",
      " |--  label: string (nullable = true)\n",
      " |-- indSt: double (nullable = false)\n",
      " |-- indPhnum: double (nullable = false)\n",
      " |-- indIntplan: double (nullable = false)\n",
      " |-- indVoice: double (nullable = false)\n",
      "\n"
     ]
    }
   ],
   "source": [
    "indexer = StringIndexer(inputCol=\"st\", outputCol=\"indSt\")\n",
    "indexed_df = indexer.fit(df).transform(df)\n",
    "\n",
    "indexer = StringIndexer(inputCol=\" phnum\", outputCol=\"indPhnum\")\n",
    "indexed_df = indexer.fit(indexed_df).transform(indexed_df)\n",
    "\n",
    "indexer = StringIndexer(inputCol=\" intplan\", outputCol=\"indIntplan\")\n",
    "indexed_df = indexer.fit(indexed_df).transform(indexed_df)\n",
    "\n",
    "indexer = StringIndexer(inputCol=\" voice\", outputCol=\"indVoice\")\n",
    "indexed_df = indexer.fit(indexed_df).transform(indexed_df)\n",
    "    \n",
    "indexed_df.printSchema()"
   ]
  },
  {
   "cell_type": "code",
   "execution_count": 13,
   "metadata": {},
   "outputs": [
    {
     "name": "stdout",
     "output_type": "stream",
     "text": [
      "+---+-------+-------+---------+--------+------+----------+------+------+-------+------+------+-------+------+-------+-------+------+------+--------+----+-------+--------------------+\n",
      "| st| acclen| arcode|    phnum| intplan| voice|nummailmes| tdmin| tdcal| tdchar| temin| tecal| tecahr| tnmin| tn cal| tnchar| timin| tical| tichar |ncsc|  label|            features|\n",
      "+---+-------+-------+---------+--------+------+----------+------+------+-------+------+------+-------+------+-------+-------+------+------+--------+----+-------+--------------------+\n",
      "| KS|    128|    415| 382-4657|      no|   yes|        25| 265.1|   110|  45.07| 197.4|    99|  16.78| 244.7|     91|  11.01|  10.0|     3|     2.7|   1| False.|[128.0,415.0,25.0...|\n",
      "| OH|    107|    415| 371-7191|      no|   yes|        26| 161.6|   123|  27.47| 195.5|   103|  16.62| 254.4|    103|  11.45|  13.7|     3|     3.7|   1| False.|[107.0,415.0,26.0...|\n",
      "| NJ|    137|    415| 358-1921|      no|    no|         0| 243.4|   114|  41.38| 121.2|   110|   10.3| 162.6|    104|   7.32|  12.2|     5|    3.29|   0| False.|[137.0,415.0,0.0,...|\n",
      "| OH|     84|    408| 375-9999|     yes|    no|         0| 299.4|    71|   50.9|  61.9|    88|   5.26| 196.9|     89|   8.86|   6.6|     7|    1.78|   2| False.|[84.0,408.0,0.0,2...|\n",
      "| OK|     75|    415| 330-6626|     yes|    no|         0| 166.7|   113|  28.34| 148.3|   122|  12.61| 186.9|    121|   8.41|  10.1|     3|    2.73|   3| False.|[75.0,415.0,0.0,1...|\n",
      "| AL|    118|    510| 391-8027|     yes|    no|         0| 223.4|    98|  37.98| 220.6|   101|  18.75| 203.9|    118|   9.18|   6.3|     6|     1.7|   0| False.|[118.0,510.0,0.0,...|\n",
      "| MA|    121|    510| 355-9993|      no|   yes|        24| 218.2|    88|  37.09| 348.5|   108|  29.62| 212.6|    118|   9.57|   7.5|     7|    2.03|   3| False.|[121.0,510.0,24.0...|\n",
      "| MO|    147|    415| 329-9001|     yes|    no|         0| 157.0|    79|  26.69| 103.1|    94|   8.76| 211.8|     96|   9.53|   7.1|     6|    1.92|   0| False.|[147.0,415.0,0.0,...|\n",
      "| LA|    117|    408| 335-4719|      no|    no|         0| 184.5|    97|  31.37| 351.6|    80|  29.89| 215.8|     90|   9.71|   8.7|     4|    2.35|   1| False.|[117.0,408.0,0.0,...|\n",
      "| WV|    141|    415| 330-8173|     yes|   yes|        37| 258.6|    84|  43.96| 222.0|   111|  18.87| 326.4|     97|  14.69|  11.2|     5|    3.02|   0| False.|[141.0,415.0,37.0...|\n",
      "| IN|     65|    415| 329-6603|      no|    no|         0| 129.1|   137|  21.95| 228.5|    83|  19.42| 208.8|    111|    9.4|  12.7|     6|    3.43|   4|  True.|[65.0,415.0,0.0,1...|\n",
      "| RI|     74|    415| 344-9403|      no|    no|         0| 187.7|   127|  31.91| 163.4|   148|  13.89| 196.0|     94|   8.82|   9.1|     5|    2.46|   0| False.|[74.0,415.0,0.0,1...|\n",
      "| IA|    168|    408| 363-1107|      no|    no|         0| 128.8|    96|   21.9| 104.9|    71|   8.92| 141.1|    128|   6.35|  11.2|     2|    3.02|   1| False.|[168.0,408.0,0.0,...|\n",
      "| MT|     95|    510| 394-8006|      no|    no|         0| 156.6|    88|  26.62| 247.6|    75|  21.05| 192.3|    115|   8.65|  12.3|     5|    3.32|   3| False.|[95.0,510.0,0.0,1...|\n",
      "| IA|     62|    415| 366-9238|      no|    no|         0| 120.7|    70|  20.52| 307.2|    76|  26.11| 203.0|     99|   9.14|  13.1|     6|    3.54|   4| False.|[62.0,415.0,0.0,1...|\n",
      "| NY|    161|    415| 351-7269|      no|    no|         0| 332.9|    67|  56.59| 317.8|    97|  27.01| 160.6|    128|   7.23|   5.4|     9|    1.46|   4|  True.|[161.0,415.0,0.0,...|\n",
      "| ID|     85|    408| 350-8884|      no|   yes|        27| 196.4|   139|  33.39| 280.9|    90|  23.88|  89.3|     75|   4.02|  13.8|     4|    3.73|   1| False.|[85.0,408.0,27.0,...|\n",
      "| VT|     93|    510| 386-2923|      no|    no|         0| 190.7|   114|  32.42| 218.2|   111|  18.55| 129.6|    121|   5.83|   8.1|     3|    2.19|   3| False.|[93.0,510.0,0.0,1...|\n",
      "| VA|     76|    510| 356-2992|      no|   yes|        33| 189.7|    66|  32.25| 212.8|    65|  18.09| 165.7|    108|   7.46|  10.0|     5|     2.7|   1| False.|[76.0,510.0,33.0,...|\n",
      "| TX|     73|    415| 373-2782|      no|    no|         0| 224.4|    90|  38.15| 159.5|    88|  13.56| 192.8|     74|   8.68|  13.0|     2|    3.51|   1| False.|[73.0,415.0,0.0,2...|\n",
      "| FL|    147|    415| 396-5800|      no|    no|         0| 155.1|   117|  26.37| 239.7|    93|  20.37| 208.8|    133|    9.4|  10.6|     4|    2.86|   0| False.|[147.0,415.0,0.0,...|\n",
      "| CO|     77|    408| 393-7984|      no|    no|         0|  62.4|    89|  10.61| 169.9|   121|  14.44| 209.6|     64|   9.43|   5.7|     6|    1.54|   5|  True.|[77.0,408.0,0.0,6...|\n",
      "| AZ|    130|    415| 358-1958|      no|    no|         0| 183.0|   112|  31.11|  72.9|    99|    6.2| 181.8|     78|   8.18|   9.5|    19|    2.57|   0| False.|[130.0,415.0,0.0,...|\n",
      "| SC|    111|    415| 350-2565|      no|    no|         0| 110.4|   103|  18.77| 137.3|   102|  11.67| 189.6|    105|   8.53|   7.7|     6|    2.08|   2| False.|[111.0,415.0,0.0,...|\n",
      "| VA|    132|    510| 343-4696|      no|    no|         0|  81.1|    86|  13.79| 245.2|    72|  20.84| 237.0|    115|  10.67|  10.3|     2|    2.78|   0| False.|[132.0,510.0,0.0,...|\n",
      "| NE|    174|    415| 331-3698|      no|    no|         0| 124.3|    76|  21.13| 277.1|   112|  23.55| 250.7|    115|  11.28|  15.5|     5|    4.19|   3| False.|[174.0,415.0,0.0,...|\n",
      "| WY|     57|    408| 357-3817|      no|   yes|        39| 213.0|   115|  36.21| 191.1|   112|  16.24| 182.7|    115|   8.22|   9.5|     3|    2.57|   0| False.|[57.0,408.0,39.0,...|\n",
      "| MT|     54|    408| 418-6412|      no|    no|         0| 134.3|    73|  22.83| 155.5|   100|  13.22| 102.1|     68|   4.59|  14.7|     4|    3.97|   3| False.|[54.0,408.0,0.0,1...|\n",
      "| MO|     20|    415| 353-2630|      no|    no|         0| 190.0|   109|   32.3| 258.2|    84|  21.95| 181.5|    102|   8.17|   6.3|     6|     1.7|   0| False.|[20.0,415.0,0.0,1...|\n",
      "| HI|     49|    510| 410-7789|      no|    no|         0| 119.3|   117|  20.28| 215.1|   109|  18.28| 178.7|     90|   8.04|  11.1|     1|     3.0|   1| False.|[49.0,510.0,0.0,1...|\n",
      "| IL|    142|    415| 416-8428|      no|    no|         0|  84.8|    95|  14.42| 136.7|    63|  11.62| 250.5|    148|  11.27|  14.2|     6|    3.83|   2| False.|[142.0,415.0,0.0,...|\n",
      "| NH|     75|    510| 370-3359|      no|    no|         0| 226.1|   105|  38.44| 201.5|   107|  17.13| 246.2|     98|  11.08|  10.3|     5|    2.78|   1| False.|[75.0,510.0,0.0,2...|\n",
      "| LA|    172|    408| 383-1121|      no|    no|         0| 212.0|   121|  36.04|  31.2|   115|   2.65| 293.3|     78|   13.2|  12.6|    10|     3.4|   3| False.|[172.0,408.0,0.0,...|\n",
      "| AZ|     12|    408| 360-1596|      no|    no|         0| 249.6|   118|  42.43| 252.4|   119|  21.45| 280.2|     90|  12.61|  11.8|     3|    3.19|   1|  True.|[12.0,408.0,0.0,2...|\n",
      "| OK|     57|    408| 395-2854|      no|   yes|        25| 176.8|    94|  30.06| 195.0|    75|  16.58| 213.5|    116|   9.61|   8.3|     4|    2.24|   0| False.|[57.0,408.0,25.0,...|\n",
      "| GA|     72|    415| 362-1407|      no|   yes|        37| 220.0|    80|   37.4| 217.3|   102|  18.47| 152.8|     71|   6.88|  14.7|     6|    3.97|   3| False.|[72.0,415.0,37.0,...|\n",
      "| AK|     36|    408| 341-9764|      no|   yes|        30| 146.3|   128|  24.87| 162.5|    80|  13.81| 129.3|    109|   5.82|  14.5|     6|    3.92|   0| False.|[36.0,408.0,30.0,...|\n",
      "| MA|     78|    415| 353-3305|      no|    no|         0| 130.8|    64|  22.24| 223.7|   116|  19.01| 227.8|    108|  10.25|  10.0|     5|     2.7|   1| False.|[78.0,415.0,0.0,1...|\n",
      "| AK|    136|    415| 402-1381|     yes|   yes|        33| 203.9|   106|  34.66| 187.6|    99|  15.95| 101.7|    107|   4.58|  10.5|     6|    2.84|   3| False.|[136.0,415.0,33.0...|\n",
      "| NJ|    149|    408| 332-9891|      no|    no|         0| 140.4|    94|  23.87| 271.8|    92|   23.1| 188.3|    108|   8.47|  11.1|     9|     3.0|   1| False.|[149.0,408.0,0.0,...|\n",
      "| GA|     98|    408| 372-9976|      no|    no|         0| 126.3|   102|  21.47| 166.8|    85|  14.18| 187.8|    135|   8.45|   9.4|     2|    2.54|   3| False.|[98.0,408.0,0.0,1...|\n",
      "| MD|    135|    408| 383-6029|     yes|   yes|        41| 173.1|    85|  29.43| 203.9|   107|  17.33| 122.2|     78|    5.5|  14.6|    15|    3.94|   0|  True.|[135.0,408.0,41.0...|\n",
      "| AR|     34|    510| 353-7289|      no|    no|         0| 124.8|    82|  21.22| 282.2|    98|  23.99| 311.5|     78|  14.02|  10.0|     4|     2.7|   2| False.|[34.0,510.0,0.0,1...|\n",
      "| ID|    160|    415| 390-7274|      no|    no|         0|  85.8|    77|  14.59| 165.3|   110|  14.05| 178.5|     92|   8.03|   9.2|     4|    2.48|   3| False.|[160.0,415.0,0.0,...|\n",
      "| WI|     64|    510| 352-1237|      no|    no|         0| 154.0|    67|  26.18| 225.8|   118|  19.19| 265.3|     86|  11.94|   3.5|     3|    0.95|   1| False.|[64.0,510.0,0.0,1...|\n",
      "| OR|     59|    408| 353-3061|      no|   yes|        28| 120.9|    97|  20.55| 213.0|    92|  18.11| 163.1|    116|   7.34|   8.5|     5|     2.3|   2| False.|[59.0,408.0,28.0,...|\n",
      "| MI|     65|    415| 363-5450|      no|    no|         0| 211.3|   120|  35.92| 162.6|   122|  13.82| 134.7|    118|   6.06|  13.2|     5|    3.56|   3| False.|[65.0,415.0,0.0,2...|\n",
      "| DE|    142|    408| 364-1995|      no|    no|         0| 187.0|   133|  31.79| 134.6|    74|  11.44| 242.2|    127|   10.9|   7.4|     5|     2.0|   2| False.|[142.0,408.0,0.0,...|\n",
      "| ID|    119|    415| 398-1294|      no|    no|         0| 159.1|   114|  27.05| 231.3|   117|  19.66| 143.2|     91|   6.44|   8.8|     3|    2.38|   5|  True.|[119.0,415.0,0.0,...|\n",
      "| WY|     97|    415| 405-7146|      no|   yes|        24| 133.2|   135|  22.64| 217.2|    58|  18.46|  70.6|     79|   3.18|  11.0|     3|    2.97|   1| False.|[97.0,415.0,24.0,...|\n",
      "| IA|     52|    408| 413-4957|      no|    no|         0| 191.9|   108|  32.62| 269.8|    96|  22.93| 236.8|     87|  10.66|   7.8|     5|    2.11|   3| False.|[52.0,408.0,0.0,1...|\n",
      "| IN|     60|    408| 420-5645|      no|    no|         0| 220.6|    57|   37.5| 211.1|   115|  17.94| 249.0|    129|  11.21|   6.8|     3|    1.84|   1| False.|[60.0,408.0,0.0,2...|\n",
      "| VA|     10|    408| 349-4396|      no|    no|         0| 186.1|   112|  31.64| 190.2|    66|  16.17| 282.8|     57|  12.73|  11.4|     6|    3.08|   2| False.|[10.0,408.0,0.0,1...|\n",
      "| UT|     96|    415| 404-3211|      no|    no|         0| 160.2|   117|  27.23| 267.5|    67|  22.74| 228.5|     68|  10.28|   9.3|     5|    2.51|   2| False.|[96.0,415.0,0.0,1...|\n",
      "| WY|     87|    415| 353-3759|      no|    no|         0| 151.0|    83|  25.67| 219.7|   116|  18.67| 203.9|    127|   9.18|   9.7|     3|    2.62|   5|  True.|[87.0,415.0,0.0,1...|\n",
      "| IN|     81|    408| 363-5947|      no|    no|         0| 175.5|    67|  29.84| 249.3|    85|  21.19| 270.2|     98|  12.16|  10.2|     3|    2.75|   1| False.|[81.0,408.0,0.0,1...|\n",
      "| CO|    141|    415| 340-5121|      no|    no|         0| 126.9|    98|  21.57| 180.0|    62|   15.3| 140.8|    128|   6.34|   8.0|     2|    2.16|   1| False.|[141.0,415.0,0.0,...|\n",
      "| CO|    121|    408| 370-7574|      no|   yes|        30| 198.4|   129|  33.73|  75.3|    77|    6.4| 181.2|     77|   8.15|   5.8|     3|    1.57|   3|  True.|[121.0,408.0,30.0...|\n",
      "| WI|     68|    415| 403-9733|      no|    no|         0| 148.8|    70|   25.3| 246.5|   164|  20.95| 129.8|    103|   5.84|  12.1|     3|    3.27|   3| False.|[68.0,415.0,0.0,1...|\n",
      "| OK|    125|    408| 355-7251|      no|    no|         0| 229.3|   103|  38.98| 177.4|   126|  15.08| 189.3|     95|   8.52|  12.0|     8|    3.24|   1| False.|[125.0,408.0,0.0,...|\n",
      "| ID|    174|    408| 359-5893|      no|    no|         0| 192.1|    97|  32.66| 169.9|    94|  14.44| 166.6|     54|    7.5|  11.4|     4|    3.08|   1| False.|[174.0,408.0,0.0,...|\n",
      "| CA|    116|    415| 405-3371|      no|   yes|        34| 268.6|    83|  45.66| 178.2|   142|  15.15| 166.3|    106|   7.48|  11.6|     3|    3.13|   2| False.|[116.0,415.0,34.0...|\n",
      "| MN|     74|    510| 344-5117|      no|   yes|        33| 193.7|    91|  32.93| 246.1|    96|  20.92| 138.0|     92|   6.21|  14.6|     3|    3.94|   2| False.|[74.0,510.0,33.0,...|\n",
      "| SD|    149|    408| 332-8160|      no|   yes|        28| 180.7|    92|  30.72| 187.8|    64|  15.96| 265.5|     53|  11.95|  12.6|     3|     3.4|   3| False.|[149.0,408.0,28.0...|\n",
      "| NC|     38|    408| 359-4081|      no|    no|         0| 131.2|    98|   22.3| 162.9|    97|  13.85| 159.0|    106|   7.15|   8.2|     6|    2.21|   2| False.|[38.0,408.0,0.0,1...|\n",
      "| WA|     40|    415| 352-8305|      no|   yes|        41| 148.1|    74|  25.18| 169.5|    88|  14.41| 214.1|    102|   9.63|   6.2|     5|    1.67|   2| False.|[40.0,415.0,41.0,...|\n",
      "| WY|     43|    415| 329-9847|     yes|    no|         0| 251.5|   105|  42.76| 212.8|   104|  18.09| 157.8|     67|    7.1|   9.3|     4|    2.51|   0| False.|[43.0,415.0,0.0,2...|\n",
      "| MN|    113|    408| 365-9011|     yes|    no|         0| 125.2|    93|  21.28| 206.4|   119|  17.54| 129.3|    139|   5.82|   8.3|     8|    2.24|   0| False.|[113.0,408.0,0.0,...|\n",
      "| UT|    126|    408| 338-9472|      no|    no|         0| 211.6|    70|  35.97| 216.9|    80|  18.44| 153.5|     60|   6.91|   7.8|     1|    2.11|   1| False.|[126.0,408.0,0.0,...|\n",
      "| TX|    150|    510| 374-8042|      no|    no|         0| 178.9|   101|  30.41| 169.1|   110|  14.37| 148.6|    100|   6.69|  13.8|     3|    3.73|   4|  True.|[150.0,510.0,0.0,...|\n",
      "| NJ|    138|    408| 359-1231|      no|    no|         0| 241.8|    93|  41.11| 170.5|    83|  14.49| 295.3|    104|  13.29|  11.8|     7|    3.19|   3| False.|[138.0,408.0,0.0,...|\n",
      "| MN|    162|    510| 413-7170|      no|   yes|        46| 224.9|    97|  38.23| 188.2|    84|   16.0| 254.6|     61|  11.46|  12.1|     2|    3.27|   0| False.|[162.0,510.0,46.0...|\n",
      "| NM|    147|    510| 415-2935|      no|    no|         0| 248.6|    83|  42.26| 148.9|    85|  12.66| 172.5|    109|   7.76|   8.0|     4|    2.16|   3| False.|[147.0,510.0,0.0,...|\n",
      "| NV|     90|    415| 399-4246|      no|    no|         0| 203.4|   146|  34.58| 226.7|   117|  19.27| 152.4|    105|   6.86|   7.3|     4|    1.97|   1| False.|[90.0,415.0,0.0,2...|\n",
      "| HI|     85|    415| 362-5889|      no|    no|         0| 235.8|   109|  40.09| 157.2|    94|  13.36| 188.2|     99|   8.47|  12.0|     3|    3.24|   0| False.|[85.0,415.0,0.0,2...|\n",
      "| MN|     50|    415| 350-8921|      no|    no|         0| 157.1|    90|  26.71| 223.3|    72|  18.98| 181.4|    111|   8.16|   6.1|     2|    1.65|   1| False.|[50.0,415.0,0.0,1...|\n",
      "| DC|     82|    415| 374-5353|      no|    no|         0| 300.3|   109|  51.05| 181.0|   100|  15.39| 270.1|     73|  12.15|  11.7|     4|    3.16|   0|  True.|[82.0,415.0,0.0,3...|\n",
      "| NY|    144|    408| 360-1171|      no|    no|         0|  61.6|   117|  10.47|  77.1|    85|   6.55| 173.0|     99|   7.79|   8.2|     7|    2.21|   4|  True.|[144.0,408.0,0.0,...|\n",
      "| MN|     46|    415| 355-8887|      no|    no|         0| 214.1|    72|   36.4| 164.4|   104|  13.97| 177.5|    113|   7.99|   8.2|     3|    2.21|   2| False.|[46.0,415.0,0.0,2...|\n",
      "| MD|     70|    408| 333-1967|      no|    no|         0| 170.2|    98|  28.93| 155.2|   102|  13.19| 228.6|     76|  10.29|  15.0|     2|    4.05|   1| False.|[70.0,408.0,0.0,1...|\n",
      "| WV|    144|    415| 354-4577|      no|    no|         0| 201.1|    99|  34.19| 303.5|    74|   25.8| 224.0|    119|  10.08|  13.2|     2|    3.56|   1| False.|[144.0,415.0,0.0,...|\n",
      "| OR|    116|    415| 331-7425|     yes|    no|         0| 215.4|   104|  36.62| 204.8|    79|  17.41| 278.5|    109|  12.53|  12.6|     5|     3.4|   3| False.|[116.0,415.0,0.0,...|\n",
      "| CO|     55|    408| 419-2637|      no|   yes|        25| 165.6|   123|  28.15| 136.1|    95|  11.57| 175.7|     90|   7.91|  11.0|     2|    2.97|   3| False.|[55.0,408.0,25.0,...|\n",
      "| GA|     70|    415| 411-1530|      no|   yes|        24| 249.5|   101|  42.42| 259.7|    98|  22.07| 222.7|     68|  10.02|   9.8|     4|    2.65|   1| False.|[70.0,415.0,24.0,...|\n",
      "| TX|    106|    510| 395-3026|      no|    no|         0| 210.6|    96|   35.8| 249.2|    85|  21.18| 191.4|     88|   8.61|  12.4|     1|    3.35|   2|  True.|[106.0,510.0,0.0,...|\n",
      "| VT|    128|    510| 388-6441|      no|   yes|        29| 179.3|   104|  30.48| 225.9|    86|   19.2| 323.0|     78|  14.54|   8.6|     7|    2.32|   0| False.|[128.0,510.0,29.0...|\n",
      "| IN|     94|    408| 402-1251|      no|    no|         0| 157.9|   105|  26.84| 155.0|   101|  13.18| 189.6|     84|   8.53|   8.0|     5|    2.16|   4|  True.|[94.0,408.0,0.0,1...|\n",
      "| WV|    111|    510| 412-9997|      no|    no|         0| 214.3|   118|  36.43| 208.5|    76|  17.72| 182.4|     98|   8.21|  12.0|     2|    3.24|   1| False.|[111.0,510.0,0.0,...|\n",
      "| KY|     74|    415| 346-7302|      no|   yes|        35| 154.1|   104|   26.2| 123.4|    84|  10.49| 202.1|     57|   9.09|  10.9|     9|    2.94|   2| False.|[74.0,415.0,35.0,...|\n",
      "| NJ|    128|    415| 358-9095|      no|    no|         0| 237.9|   125|  40.44| 247.6|    93|  21.05| 208.9|     68|    9.4|  13.9|     4|    3.75|   1|  True.|[128.0,415.0,0.0,...|\n",
      "| DC|     82|    510| 400-9770|      no|    no|         0| 143.9|    61|  24.46| 194.9|   105|  16.57| 109.6|     94|   4.93|  11.1|     2|     3.0|   1| False.|[82.0,510.0,0.0,1...|\n",
      "| LA|    155|    415| 334-1275|      no|    no|         0| 203.4|   100|  34.58| 190.9|   104|  16.23| 196.0|    119|   8.82|   8.9|     4|     2.4|   0|  True.|[155.0,415.0,0.0,...|\n",
      "| AR|     80|    415| 340-4953|      no|    no|         0| 124.3|   100|  21.13| 173.0|   107|  14.71| 253.2|     62|  11.39|   7.9|     9|    2.13|   1| False.|[80.0,415.0,0.0,1...|\n",
      "| ME|     78|    415| 400-9510|      no|    no|         0| 252.9|    93|  42.99| 178.4|   112|  15.16| 263.9|    105|  11.88|   9.5|     7|    2.57|   3| False.|[78.0,415.0,0.0,2...|\n",
      "| AZ|     90|    415| 387-6103|      no|    no|         0| 179.1|    71|  30.45| 190.6|    81|   16.2| 127.7|     91|   5.75|  10.6|     7|    2.86|   3| False.|[90.0,415.0,0.0,1...|\n",
      "| AK|    104|    408| 366-4467|      no|    no|         0| 278.4|   106|  47.33|  81.0|   113|   6.89| 163.2|    137|   7.34|   9.8|     5|    2.65|   1| False.|[104.0,408.0,0.0,...|\n",
      "| MT|     73|    415| 370-3450|      no|    no|         0| 160.1|   110|  27.22| 213.3|    72|  18.13| 174.1|     72|   7.83|  13.0|     4|    3.51|   0| False.|[73.0,415.0,0.0,1...|\n",
      "| AZ|     99|    415| 327-3954|      no|    no|         0| 198.2|    87|  33.69| 207.3|    76|  17.62| 190.9|    113|   8.59|   8.7|     3|    2.35|   4| False.|[99.0,415.0,0.0,1...|\n",
      "| MS|    120|    408| 355-6291|      no|    no|         0| 212.1|   131|  36.06| 209.4|   104|   17.8| 167.2|     96|   7.52|   5.3|     5|    1.43|   1|  True.|[120.0,408.0,0.0,...|\n",
      "| ID|     77|    415| 362-9748|      no|    no|         0| 251.8|    72|  42.81| 205.7|   126|  17.48| 275.2|    109|  12.38|   9.8|     7|    2.65|   2|  True.|[77.0,415.0,0.0,2...|\n",
      "+---+-------+-------+---------+--------+------+----------+------+------+-------+------+------+-------+------+-------+-------+------+------+--------+----+-------+--------------------+\n",
      "only showing top 100 rows\n",
      "\n"
     ]
    }
   ],
   "source": [
    "vectorAss = VectorAssembler(inputCols=[\" acclen\",\n",
    "                                       \" arcode\",\n",
    "                                       \"nummailmes\",\n",
    "                                       \" tdmin\",\n",
    "                                      \" tdcal\",\" tdchar\",\" temin\",\n",
    "                                      \" tecal\",\" tecahr\",\" tnmin\"\n",
    "                                      ]\n",
    "                            ,outputCol=\"features\")\n",
    "\n",
    "fi_train_df = vectorAss.transform(df)\n",
    "fi_train_df.show(100)"
   ]
  },
  {
   "cell_type": "code",
   "execution_count": 14,
   "metadata": {},
   "outputs": [],
   "source": [
    "featureIndexer =\\\n",
    "    VectorIndexer(inputCol=\"features\", outputCol=\"indexedFeatures\", maxCategories=20).fit(fi_train_df)\n",
    "    \n",
    "fi_df = featureIndexer.transform(fi_train_df)"
   ]
  },
  {
   "cell_type": "code",
   "execution_count": 15,
   "metadata": {
    "collapsed": true
   },
   "outputs": [],
   "source": [
    "rf = RandomForestClassifier(labelCol=\"indexedLabel\", featuresCol=\"indexedFeatures\", numTrees=100, maxBins=64)"
   ]
  },
  {
   "cell_type": "code",
   "execution_count": 16,
   "metadata": {},
   "outputs": [],
   "source": [
    "labelIndexer = StringIndexer(inputCol=\" label\", outputCol=\"indexedLabel\").fit(fi_df)\n",
    "labelConverter = IndexToString(inputCol=\"prediction\", outputCol=\"predictedLabel\",\n",
    "                               labels=labelIndexer.labels)"
   ]
  },
  {
   "cell_type": "code",
   "execution_count": 17,
   "metadata": {
    "collapsed": true
   },
   "outputs": [],
   "source": [
    "pipeline = Pipeline(stages=[labelIndexer, featureIndexer, rf, labelConverter])"
   ]
  },
  {
   "cell_type": "code",
   "execution_count": 19,
   "metadata": {},
   "outputs": [
    {
     "name": "stdout",
     "output_type": "stream",
     "text": [
      "root\n",
      " |-- st: string (nullable = true)\n",
      " |--  acclen: integer (nullable = true)\n",
      " |--  arcode: integer (nullable = true)\n",
      " |--  phnum: string (nullable = true)\n",
      " |--  intplan: string (nullable = true)\n",
      " |--  voice: string (nullable = true)\n",
      " |-- nummailmes: integer (nullable = true)\n",
      " |--  tdmin: double (nullable = true)\n",
      " |--  tdcal: integer (nullable = true)\n",
      " |--  tdchar: double (nullable = true)\n",
      " |--  temin: double (nullable = true)\n",
      " |--  tecal: integer (nullable = true)\n",
      " |--  tecahr: double (nullable = true)\n",
      " |--  tnmin: double (nullable = true)\n",
      " |--  tn cal: integer (nullable = true)\n",
      " |--  tnchar: double (nullable = true)\n",
      " |--  timin: double (nullable = true)\n",
      " |--  tical: integer (nullable = true)\n",
      " |--  tichar : double (nullable = true)\n",
      " |-- ncsc: integer (nullable = true)\n",
      " |--  label: string (nullable = true)\n",
      "\n"
     ]
    }
   ],
   "source": [
    "model = pipeline.fit(fi_df)\n",
    "TEST = spark.read.csv(\"churn_test.csv\",inferSchema=True, header=True)\n",
    "\n",
    "TEST.printSchema()"
   ]
  },
  {
   "cell_type": "code",
   "execution_count": 20,
   "metadata": {},
   "outputs": [
    {
     "data": {
      "text/plain": [
       "1667"
      ]
     },
     "execution_count": 20,
     "metadata": {},
     "output_type": "execute_result"
    }
   ],
   "source": [
    "indexer = StringIndexer(inputCol=\"st\", outputCol=\"indSt\")\n",
    "TEST = indexer.fit(TEST).transform(TEST)\n",
    "\n",
    "indexer = StringIndexer(inputCol=\" phnum\", outputCol=\"indPhnum\")\n",
    "TEST = indexer.fit(TEST).transform(TEST)\n",
    "\n",
    "indexer = StringIndexer(inputCol=\" intplan\", outputCol=\"indIntplan\")\n",
    "TEST = indexer.fit(TEST).transform(TEST)\n",
    "\n",
    "indexer = StringIndexer(inputCol=\" voice\", outputCol=\"indVoice\")\n",
    "TEST = indexer.fit(TEST).transform(TEST)\n",
    "\n",
    "\n",
    "\n",
    "TEST.count()"
   ]
  },
  {
   "cell_type": "code",
   "execution_count": 21,
   "metadata": {},
   "outputs": [],
   "source": [
    "newvectorAss = VectorAssembler(inputCols=[\" acclen\",\n",
    "                                       \" arcode\",\n",
    "                                       \"nummailmes\",\n",
    "                                       \" tdmin\",\n",
    "                                      \" tdcal\",\" tdchar\",\" temin\",\n",
    "                                      \" tecal\",\" tecahr\",\" tnmin\"\n",
    "                                      ]\n",
    "                            ,outputCol=\"features\")\n",
    "\n",
    "TEST = newvectorAss.transform(TEST)"
   ]
  },
  {
   "cell_type": "code",
   "execution_count": 22,
   "metadata": {
    "collapsed": true
   },
   "outputs": [],
   "source": [
    "featureIndexer =\\\n",
    "    VectorIndexer(inputCol=\"features\", outputCol=\"indexedFeatures\", maxCategories=4).fit(TEST)\n",
    "\n",
    "    \n",
    "TEST = featureIndexer.transform(TEST)"
   ]
  },
  {
   "cell_type": "code",
   "execution_count": 23,
   "metadata": {},
   "outputs": [
    {
     "name": "stdout",
     "output_type": "stream",
     "text": [
      "Test Error = 0.0935813\n",
      "Accuracy = 0.906419\n",
      "RandomForestClassificationModel (uid=RandomForestClassifier_4634a9eefdc562b86416) with 100 trees\n"
     ]
    }
   ],
   "source": [
    "predictions = model.transform(TEST)\n",
    "evaluator = MulticlassClassificationEvaluator(\n",
    "    labelCol=\"indexedLabel\", predictionCol=\"prediction\", metricName=\"accuracy\")\n",
    "accuracy = evaluator.evaluate(predictions)\n",
    "print(\"Test Error = %g\" % (1.0 - accuracy))\n",
    "print(\"Accuracy = %g\" % (accuracy))\n",
    "\n",
    "rfModel = model.stages[2]\n",
    "print(rfModel)"
   ]
  },
  {
   "cell_type": "code",
   "execution_count": 24,
   "metadata": {},
   "outputs": [
    {
     "name": "stdout",
     "output_type": "stream",
     "text": [
      "True Positives: 71\n",
      "True Negatives: 1440\n",
      "False Positives: 3\n",
      "False Negatives: 153\n",
      "Total 1667\n",
      "recall 0.3169642857142857\n",
      "precision - true 0.9594594594594594\n",
      "precision - false 0.903954802259887\n"
     ]
    }
   ],
   "source": [
    "tp = predictions[(predictions.indexedLabel == 1) & (predictions.prediction == 1)].count()\n",
    "tn = predictions[(predictions.indexedLabel == 0) & (predictions.prediction == 0)].count()\n",
    "fp = predictions[(predictions.indexedLabel == 0) & (predictions.prediction == 1)].count()\n",
    "fn = predictions[(predictions.indexedLabel == 1) & (predictions.prediction == 0)].count()\n",
    "print (\"True Positives:\", tp)\n",
    "print (\"True Negatives:\", tn)\n",
    "print (\"False Positives:\", fp)\n",
    "print (\"False Negatives:\", fn)\n",
    "print (\"Total\", predictions.count())\n",
    "\n",
    "r = float(tp)/(tp + fn)\n",
    "print (\"recall\", r)\n",
    "\n",
    "p = float(tp) / (tp + fp)\n",
    "print (\"precision - true\", p)\n",
    "\n",
    "p1 = float(tn) / (tn + fn)\n",
    "print (\"precision - false\", p1)"
   ]
  },
  {
   "cell_type": "code",
   "execution_count": null,
   "metadata": {
    "collapsed": true
   },
   "outputs": [],
   "source": []
  }
 ],
 "metadata": {
  "kernelspec": {
   "display_name": "Python 3",
   "language": "python",
   "name": "python3"
  },
  "language_info": {
   "codemirror_mode": {
    "name": "ipython",
    "version": 3
   },
   "file_extension": ".py",
   "mimetype": "text/x-python",
   "name": "python",
   "nbconvert_exporter": "python",
   "pygments_lexer": "ipython3",
   "version": "3.6.4"
  }
 },
 "nbformat": 4,
 "nbformat_minor": 2
}
