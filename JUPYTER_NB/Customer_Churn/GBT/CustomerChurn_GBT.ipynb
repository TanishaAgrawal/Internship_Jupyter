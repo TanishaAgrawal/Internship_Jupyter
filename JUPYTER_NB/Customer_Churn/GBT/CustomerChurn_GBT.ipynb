{
 "cells": [
  {
   "cell_type": "code",
   "execution_count": 1,
   "metadata": {},
   "outputs": [],
   "source": [
    "from pyspark.ml import Pipeline\n",
    "from pyspark.ml.classification import GBTClassifier\n",
    "from pyspark.ml.feature import StringIndexer, VectorIndexer\n",
    "from pyspark.ml.evaluation import MulticlassClassificationEvaluator\n",
    "from pyspark.ml.linalg import Vectors\n",
    "from pyspark.ml.feature import VectorAssembler\n",
    "from pyspark.sql import SparkSession"
   ]
  },
  {
   "cell_type": "code",
   "execution_count": 2,
   "metadata": {},
   "outputs": [],
   "source": [
    "spark=SparkSession \\\n",
    ".builder \\\n",
    ".appName(\"Employee Attrition using GradientBoostedTree\") \\\n",
    ".config(\"spark.some.config.option\",\"some-value\") \\\n",
    ".getOrCreate()"
   ]
  },
  {
   "cell_type": "code",
   "execution_count": 3,
   "metadata": {},
   "outputs": [
    {
     "name": "stdout",
     "output_type": "stream",
     "text": [
      "+---+-------+-------+---------+--------+------+----------+------+------+-------+------+------+-------+------+-------+-------+------+------+--------+----+-------+\n",
      "| st| acclen| arcode|    phnum| intplan| voice|nummailmes| tdmin| tdcal| tdchar| temin| tecal| tecahr| tnmin| tn cal| tnchar| timin| tical| tichar |ncsc|  label|\n",
      "+---+-------+-------+---------+--------+------+----------+------+------+-------+------+------+-------+------+-------+-------+------+------+--------+----+-------+\n",
      "| KS|    128|    415| 382-4657|      no|   yes|        25| 265.1|   110|  45.07| 197.4|    99|  16.78| 244.7|     91|  11.01|  10.0|     3|     2.7|   1| False.|\n",
      "| OH|    107|    415| 371-7191|      no|   yes|        26| 161.6|   123|  27.47| 195.5|   103|  16.62| 254.4|    103|  11.45|  13.7|     3|     3.7|   1| False.|\n",
      "| NJ|    137|    415| 358-1921|      no|    no|         0| 243.4|   114|  41.38| 121.2|   110|   10.3| 162.6|    104|   7.32|  12.2|     5|    3.29|   0| False.|\n",
      "| OH|     84|    408| 375-9999|     yes|    no|         0| 299.4|    71|   50.9|  61.9|    88|   5.26| 196.9|     89|   8.86|   6.6|     7|    1.78|   2| False.|\n",
      "| OK|     75|    415| 330-6626|     yes|    no|         0| 166.7|   113|  28.34| 148.3|   122|  12.61| 186.9|    121|   8.41|  10.1|     3|    2.73|   3| False.|\n",
      "| AL|    118|    510| 391-8027|     yes|    no|         0| 223.4|    98|  37.98| 220.6|   101|  18.75| 203.9|    118|   9.18|   6.3|     6|     1.7|   0| False.|\n",
      "| MA|    121|    510| 355-9993|      no|   yes|        24| 218.2|    88|  37.09| 348.5|   108|  29.62| 212.6|    118|   9.57|   7.5|     7|    2.03|   3| False.|\n",
      "| MO|    147|    415| 329-9001|     yes|    no|         0| 157.0|    79|  26.69| 103.1|    94|   8.76| 211.8|     96|   9.53|   7.1|     6|    1.92|   0| False.|\n",
      "| LA|    117|    408| 335-4719|      no|    no|         0| 184.5|    97|  31.37| 351.6|    80|  29.89| 215.8|     90|   9.71|   8.7|     4|    2.35|   1| False.|\n",
      "| WV|    141|    415| 330-8173|     yes|   yes|        37| 258.6|    84|  43.96| 222.0|   111|  18.87| 326.4|     97|  14.69|  11.2|     5|    3.02|   0| False.|\n",
      "| IN|     65|    415| 329-6603|      no|    no|         0| 129.1|   137|  21.95| 228.5|    83|  19.42| 208.8|    111|    9.4|  12.7|     6|    3.43|   4|  True.|\n",
      "| RI|     74|    415| 344-9403|      no|    no|         0| 187.7|   127|  31.91| 163.4|   148|  13.89| 196.0|     94|   8.82|   9.1|     5|    2.46|   0| False.|\n",
      "| IA|    168|    408| 363-1107|      no|    no|         0| 128.8|    96|   21.9| 104.9|    71|   8.92| 141.1|    128|   6.35|  11.2|     2|    3.02|   1| False.|\n",
      "| MT|     95|    510| 394-8006|      no|    no|         0| 156.6|    88|  26.62| 247.6|    75|  21.05| 192.3|    115|   8.65|  12.3|     5|    3.32|   3| False.|\n",
      "| IA|     62|    415| 366-9238|      no|    no|         0| 120.7|    70|  20.52| 307.2|    76|  26.11| 203.0|     99|   9.14|  13.1|     6|    3.54|   4| False.|\n",
      "| NY|    161|    415| 351-7269|      no|    no|         0| 332.9|    67|  56.59| 317.8|    97|  27.01| 160.6|    128|   7.23|   5.4|     9|    1.46|   4|  True.|\n",
      "| ID|     85|    408| 350-8884|      no|   yes|        27| 196.4|   139|  33.39| 280.9|    90|  23.88|  89.3|     75|   4.02|  13.8|     4|    3.73|   1| False.|\n",
      "| VT|     93|    510| 386-2923|      no|    no|         0| 190.7|   114|  32.42| 218.2|   111|  18.55| 129.6|    121|   5.83|   8.1|     3|    2.19|   3| False.|\n",
      "| VA|     76|    510| 356-2992|      no|   yes|        33| 189.7|    66|  32.25| 212.8|    65|  18.09| 165.7|    108|   7.46|  10.0|     5|     2.7|   1| False.|\n",
      "| TX|     73|    415| 373-2782|      no|    no|         0| 224.4|    90|  38.15| 159.5|    88|  13.56| 192.8|     74|   8.68|  13.0|     2|    3.51|   1| False.|\n",
      "+---+-------+-------+---------+--------+------+----------+------+------+-------+------+------+-------+------+-------+-------+------+------+--------+----+-------+\n",
      "only showing top 20 rows\n",
      "\n"
     ]
    }
   ],
   "source": [
    "df=spark.read.load('churn_train.csv',format='csv',header=True,inferSchema=True)\n",
    "df.show()"
   ]
  },
  {
   "cell_type": "code",
   "execution_count": 4,
   "metadata": {},
   "outputs": [
    {
     "name": "stdout",
     "output_type": "stream",
     "text": [
      "root\n",
      " |-- st: string (nullable = true)\n",
      " |--  acclen: integer (nullable = true)\n",
      " |--  arcode: integer (nullable = true)\n",
      " |--  phnum: string (nullable = true)\n",
      " |--  intplan: string (nullable = true)\n",
      " |--  voice: string (nullable = true)\n",
      " |-- nummailmes: integer (nullable = true)\n",
      " |--  tdmin: double (nullable = true)\n",
      " |--  tdcal: integer (nullable = true)\n",
      " |--  tdchar: double (nullable = true)\n",
      " |--  temin: double (nullable = true)\n",
      " |--  tecal: integer (nullable = true)\n",
      " |--  tecahr: double (nullable = true)\n",
      " |--  tnmin: double (nullable = true)\n",
      " |--  tn cal: integer (nullable = true)\n",
      " |--  tnchar: double (nullable = true)\n",
      " |--  timin: double (nullable = true)\n",
      " |--  tical: integer (nullable = true)\n",
      " |--  tichar : double (nullable = true)\n",
      " |-- ncsc: integer (nullable = true)\n",
      " |--  label: string (nullable = true)\n",
      "\n"
     ]
    }
   ],
   "source": [
    "df.printSchema()"
   ]
  },
  {
   "cell_type": "markdown",
   "metadata": {},
   "source": [
    "### Vectorize the columns"
   ]
  },
  {
   "cell_type": "code",
   "execution_count": 6,
   "metadata": {},
   "outputs": [],
   "source": [
    "assembler = VectorAssembler(\n",
    "    inputCols=[\" acclen\", \" arcode\", \"nummailmes\",\" tdmin\",\" tdcal\",\" temin\",\" tecal\",\" tecahr\",\" tnmin\",\" tn cal\",\" tnchar\",\" timin\",\" tical\",\" tichar \",\"ncsc\"],\n",
    "    outputCol=\"features\")"
   ]
  },
  {
   "cell_type": "code",
   "execution_count": 7,
   "metadata": {},
   "outputs": [
    {
     "name": "stdout",
     "output_type": "stream",
     "text": [
      "+-----------------------------------------------------------------------------------+\n",
      "|features                                                                           |\n",
      "+-----------------------------------------------------------------------------------+\n",
      "|[128.0,415.0,25.0,265.1,110.0,197.4,99.0,16.78,244.7,91.0,11.01,10.0,3.0,2.7,1.0]  |\n",
      "|[107.0,415.0,26.0,161.6,123.0,195.5,103.0,16.62,254.4,103.0,11.45,13.7,3.0,3.7,1.0]|\n",
      "|[137.0,415.0,0.0,243.4,114.0,121.2,110.0,10.3,162.6,104.0,7.32,12.2,5.0,3.29,0.0]  |\n",
      "|[84.0,408.0,0.0,299.4,71.0,61.9,88.0,5.26,196.9,89.0,8.86,6.6,7.0,1.78,2.0]        |\n",
      "|[75.0,415.0,0.0,166.7,113.0,148.3,122.0,12.61,186.9,121.0,8.41,10.1,3.0,2.73,3.0]  |\n",
      "|[118.0,510.0,0.0,223.4,98.0,220.6,101.0,18.75,203.9,118.0,9.18,6.3,6.0,1.7,0.0]    |\n",
      "|[121.0,510.0,24.0,218.2,88.0,348.5,108.0,29.62,212.6,118.0,9.57,7.5,7.0,2.03,3.0]  |\n",
      "|[147.0,415.0,0.0,157.0,79.0,103.1,94.0,8.76,211.8,96.0,9.53,7.1,6.0,1.92,0.0]      |\n",
      "|[117.0,408.0,0.0,184.5,97.0,351.6,80.0,29.89,215.8,90.0,9.71,8.7,4.0,2.35,1.0]     |\n",
      "|[141.0,415.0,37.0,258.6,84.0,222.0,111.0,18.87,326.4,97.0,14.69,11.2,5.0,3.02,0.0] |\n",
      "|[65.0,415.0,0.0,129.1,137.0,228.5,83.0,19.42,208.8,111.0,9.4,12.7,6.0,3.43,4.0]    |\n",
      "|[74.0,415.0,0.0,187.7,127.0,163.4,148.0,13.89,196.0,94.0,8.82,9.1,5.0,2.46,0.0]    |\n",
      "|[168.0,408.0,0.0,128.8,96.0,104.9,71.0,8.92,141.1,128.0,6.35,11.2,2.0,3.02,1.0]    |\n",
      "|[95.0,510.0,0.0,156.6,88.0,247.6,75.0,21.05,192.3,115.0,8.65,12.3,5.0,3.32,3.0]    |\n",
      "|[62.0,415.0,0.0,120.7,70.0,307.2,76.0,26.11,203.0,99.0,9.14,13.1,6.0,3.54,4.0]     |\n",
      "|[161.0,415.0,0.0,332.9,67.0,317.8,97.0,27.01,160.6,128.0,7.23,5.4,9.0,1.46,4.0]    |\n",
      "|[85.0,408.0,27.0,196.4,139.0,280.9,90.0,23.88,89.3,75.0,4.02,13.8,4.0,3.73,1.0]    |\n",
      "|[93.0,510.0,0.0,190.7,114.0,218.2,111.0,18.55,129.6,121.0,5.83,8.1,3.0,2.19,3.0]   |\n",
      "|[76.0,510.0,33.0,189.7,66.0,212.8,65.0,18.09,165.7,108.0,7.46,10.0,5.0,2.7,1.0]    |\n",
      "|[73.0,415.0,0.0,224.4,90.0,159.5,88.0,13.56,192.8,74.0,8.68,13.0,2.0,3.51,1.0]     |\n",
      "+-----------------------------------------------------------------------------------+\n",
      "only showing top 20 rows\n",
      "\n"
     ]
    }
   ],
   "source": [
    "output = assembler.transform(df)\n",
    "output.select(\"features\").show(truncate=False)"
   ]
  },
  {
   "cell_type": "markdown",
   "metadata": {},
   "source": [
    "### Index labels, adding metadata to the label column\n",
    "### Fit on whole dataset to include all labels in index"
   ]
  },
  {
   "cell_type": "code",
   "execution_count": 8,
   "metadata": {},
   "outputs": [],
   "source": [
    "labelIndexer = StringIndexer(inputCol=\" label\", outputCol=\"newlabel\").fit(output)"
   ]
  },
  {
   "cell_type": "markdown",
   "metadata": {},
   "source": [
    "### Automatically identify categorical features, and index them\n",
    "### Set maxCategories so features with > 4 distinct values are treated as continuous"
   ]
  },
  {
   "cell_type": "code",
   "execution_count": 9,
   "metadata": {},
   "outputs": [],
   "source": [
    "featureIndexer= VectorIndexer(inputCol=\"features\", outputCol=\"indexedFeatures\", maxCategories=4).fit(output)"
   ]
  },
  {
   "cell_type": "markdown",
   "metadata": {},
   "source": [
    "### Train a GBT model"
   ]
  },
  {
   "cell_type": "code",
   "execution_count": 11,
   "metadata": {},
   "outputs": [],
   "source": [
    "\n",
    "gbt = GBTClassifier(labelCol=\"newlabel\", featuresCol=\"indexedFeatures\", maxIter=10)"
   ]
  },
  {
   "cell_type": "markdown",
   "metadata": {},
   "source": [
    "### Chain indexers and GBT in a Pipeline"
   ]
  },
  {
   "cell_type": "code",
   "execution_count": 12,
   "metadata": {},
   "outputs": [],
   "source": [
    "\n",
    "pipeline = Pipeline(stages=[labelIndexer, featureIndexer, gbt])"
   ]
  },
  {
   "cell_type": "markdown",
   "metadata": {},
   "source": [
    "###  Train model"
   ]
  },
  {
   "cell_type": "code",
   "execution_count": 13,
   "metadata": {},
   "outputs": [],
   "source": [
    "\n",
    "model = pipeline.fit(output)"
   ]
  },
  {
   "cell_type": "code",
   "execution_count": 14,
   "metadata": {},
   "outputs": [
    {
     "name": "stdout",
     "output_type": "stream",
     "text": [
      "+---+-------+-------+---------+--------+------+----------+------+------+-------+------+------+-------+------+-------+-------+------+------+--------+----+-------+\n",
      "| st| acclen| arcode|    phnum| intplan| voice|nummailmes| tdmin| tdcal| tdchar| temin| tecal| tecahr| tnmin| tn cal| tnchar| timin| tical| tichar |ncsc|  label|\n",
      "+---+-------+-------+---------+--------+------+----------+------+------+-------+------+------+-------+------+-------+-------+------+------+--------+----+-------+\n",
      "| HI|    101|    510| 354-8815|      no|    no|         0|  70.9|   123|  12.05| 211.9|    73|  18.01| 236.0|     73|  10.62|  10.6|     3|    2.86|   3| False.|\n",
      "| MT|    137|    510| 381-7211|      no|    no|         0| 223.6|    86|  38.01| 244.8|   139|  20.81|  94.2|     81|   4.24|   9.5|     7|    2.57|   0| False.|\n",
      "| OH|    103|    408| 411-9481|      no|   yes|        29| 294.7|    95|   50.1| 237.3|   105|  20.17| 300.3|    127|  13.51|  13.7|     6|     3.7|   1| False.|\n",
      "| NM|     99|    415| 418-9100|      no|    no|         0| 216.8|   123|  36.86| 126.4|    88|  10.74| 220.6|     82|   9.93|  15.7|     2|    4.24|   1| False.|\n",
      "| SC|    108|    415| 413-3643|      no|    no|         0| 197.4|    78|  33.56| 124.0|   101|  10.54| 204.5|    107|    9.2|   7.7|     4|    2.08|   2| False.|\n",
      "| IA|    117|    415| 375-6180|      no|    no|         0| 226.5|    85|  38.51| 141.6|    68|  12.04| 223.0|     90|  10.04|   6.9|     5|    1.86|   1| False.|\n",
      "| ND|     63|    415| 348-8073|      no|   yes|        32| 218.9|   124|  37.21| 214.3|   125|  18.22| 260.3|    120|  11.71|  12.9|     3|    3.48|   1| False.|\n",
      "| LA|     94|    408| 359-9881|      no|    no|         0| 157.5|    97|  26.78| 224.5|   112|  19.08| 310.8|    106|  13.99|  11.1|     6|     3.0|   0| False.|\n",
      "| MO|    138|    510| 353-6954|      no|    no|         0|  89.1|   117|  15.15| 126.8|    46|  10.78| 190.5|     71|   8.57|   9.9|     4|    2.67|   2| False.|\n",
      "| TX|    128|    415| 403-4933|      no|   yes|        43| 177.8|   100|  30.23| 147.3|    89|  12.52| 194.2|     92|   8.74|  11.9|     1|    3.21|   0| False.|\n",
      "| AR|    113|    510| 360-3811|      no|   yes|        39| 209.8|    77|  35.67| 164.1|    90|  13.95| 159.7|    100|   7.19|   9.0|     4|    2.43|   1| False.|\n",
      "| TX|    140|    415| 353-1755|      no|    no|         0|  93.2|   109|  15.84| 197.6|   116|   16.8| 219.8|     94|   9.89|  10.5|     2|    2.84|   1| False.|\n",
      "| ME|    102|    415| 372-8233|      no|    no|         0| 228.1|    86|  38.78| 156.0|    97|  13.26| 227.9|    124|  10.26|  10.6|     9|    2.86|   1| False.|\n",
      "| ND|    108|    415| 371-5951|      no|    no|         0| 112.6|    86|  19.14| 114.9|   101|   9.77| 177.8|    119|    8.0|   7.2|     6|    1.94|   3| False.|\n",
      "| DE|     60|    408| 381-5937|      no|    no|         0| 207.3|    77|  35.24| 207.9|   105|  17.67| 108.2|     89|   4.87|  12.9|     5|    3.48|   1| False.|\n",
      "| MN|     96|    408| 357-1784|      no|    no|         0| 208.1|    93|  35.38| 189.2|   107|  16.08| 279.6|     90|  12.58|   7.4|     2|     2.0|   1| False.|\n",
      "| KS|    178|    415| 350-8209|      no|   yes|        22| 112.8|    66|  19.18| 232.6|   100|  19.77| 194.8|    119|   8.77|  14.3|     3|    3.86|   1| False.|\n",
      "| MN|     75|    415| 400-5627|      no|    no|         0| 225.3|   124|   38.3| 228.0|    81|  19.38| 254.3|    106|  11.44|  11.7|     3|    3.16|   1| False.|\n",
      "| NC|    106|    415| 365-2473|      no|   yes|        25| 169.4|   105|   28.8| 240.5|   108|  20.44| 159.4|    114|   7.17|  13.9|     5|    3.75|   4| False.|\n",
      "| HI|    158|    510| 357-3134|      no|    no|         0| 193.3|   121|  32.86| 208.1|    97|  17.69| 228.1|     99|  10.26|   7.1|     9|    1.92|   1| False.|\n",
      "+---+-------+-------+---------+--------+------+----------+------+------+-------+------+------+-------+------+-------+-------+------+------+--------+----+-------+\n",
      "only showing top 20 rows\n",
      "\n"
     ]
    }
   ],
   "source": [
    "df1=spark.read.load('churn_test.csv',format='csv',header=True,inferSchema=True)\n",
    "df1.show()"
   ]
  },
  {
   "cell_type": "code",
   "execution_count": 15,
   "metadata": {},
   "outputs": [
    {
     "name": "stdout",
     "output_type": "stream",
     "text": [
      "root\n",
      " |-- st: string (nullable = true)\n",
      " |--  acclen: integer (nullable = true)\n",
      " |--  arcode: integer (nullable = true)\n",
      " |--  phnum: string (nullable = true)\n",
      " |--  intplan: string (nullable = true)\n",
      " |--  voice: string (nullable = true)\n",
      " |-- nummailmes: integer (nullable = true)\n",
      " |--  tdmin: double (nullable = true)\n",
      " |--  tdcal: integer (nullable = true)\n",
      " |--  tdchar: double (nullable = true)\n",
      " |--  temin: double (nullable = true)\n",
      " |--  tecal: integer (nullable = true)\n",
      " |--  tecahr: double (nullable = true)\n",
      " |--  tnmin: double (nullable = true)\n",
      " |--  tn cal: integer (nullable = true)\n",
      " |--  tnchar: double (nullable = true)\n",
      " |--  timin: double (nullable = true)\n",
      " |--  tical: integer (nullable = true)\n",
      " |--  tichar : double (nullable = true)\n",
      " |-- ncsc: integer (nullable = true)\n",
      " |--  label: string (nullable = true)\n",
      "\n"
     ]
    }
   ],
   "source": [
    "df1.printSchema()"
   ]
  },
  {
   "cell_type": "markdown",
   "metadata": {},
   "source": [
    "### vectorize the columns of test dataset"
   ]
  },
  {
   "cell_type": "code",
   "execution_count": 16,
   "metadata": {},
   "outputs": [],
   "source": [
    "assembler = VectorAssembler(\n",
    "    inputCols=[\" acclen\", \" arcode\", \"nummailmes\",\" tdmin\",\" tdcal\",\" temin\",\" tecal\",\" tecahr\",\" tnmin\",\" tn cal\",\" tnchar\",\" timin\",\" tical\",\" tichar \",\"ncsc\"],\n",
    "    outputCol=\"features\")"
   ]
  },
  {
   "cell_type": "code",
   "execution_count": 17,
   "metadata": {},
   "outputs": [
    {
     "name": "stdout",
     "output_type": "stream",
     "text": [
      "+-----------------------------------------------------------------------------------+\n",
      "|features                                                                           |\n",
      "+-----------------------------------------------------------------------------------+\n",
      "|[101.0,510.0,0.0,70.9,123.0,211.9,73.0,18.01,236.0,73.0,10.62,10.6,3.0,2.86,3.0]   |\n",
      "|[137.0,510.0,0.0,223.6,86.0,244.8,139.0,20.81,94.2,81.0,4.24,9.5,7.0,2.57,0.0]     |\n",
      "|[103.0,408.0,29.0,294.7,95.0,237.3,105.0,20.17,300.3,127.0,13.51,13.7,6.0,3.7,1.0] |\n",
      "|[99.0,415.0,0.0,216.8,123.0,126.4,88.0,10.74,220.6,82.0,9.93,15.7,2.0,4.24,1.0]    |\n",
      "|[108.0,415.0,0.0,197.4,78.0,124.0,101.0,10.54,204.5,107.0,9.2,7.7,4.0,2.08,2.0]    |\n",
      "|[117.0,415.0,0.0,226.5,85.0,141.6,68.0,12.04,223.0,90.0,10.04,6.9,5.0,1.86,1.0]    |\n",
      "|[63.0,415.0,32.0,218.9,124.0,214.3,125.0,18.22,260.3,120.0,11.71,12.9,3.0,3.48,1.0]|\n",
      "|[94.0,408.0,0.0,157.5,97.0,224.5,112.0,19.08,310.8,106.0,13.99,11.1,6.0,3.0,0.0]   |\n",
      "|[138.0,510.0,0.0,89.1,117.0,126.8,46.0,10.78,190.5,71.0,8.57,9.9,4.0,2.67,2.0]     |\n",
      "|[128.0,415.0,43.0,177.8,100.0,147.3,89.0,12.52,194.2,92.0,8.74,11.9,1.0,3.21,0.0]  |\n",
      "|[113.0,510.0,39.0,209.8,77.0,164.1,90.0,13.95,159.7,100.0,7.19,9.0,4.0,2.43,1.0]   |\n",
      "|[140.0,415.0,0.0,93.2,109.0,197.6,116.0,16.8,219.8,94.0,9.89,10.5,2.0,2.84,1.0]    |\n",
      "|[102.0,415.0,0.0,228.1,86.0,156.0,97.0,13.26,227.9,124.0,10.26,10.6,9.0,2.86,1.0]  |\n",
      "|[108.0,415.0,0.0,112.6,86.0,114.9,101.0,9.77,177.8,119.0,8.0,7.2,6.0,1.94,3.0]     |\n",
      "|[60.0,408.0,0.0,207.3,77.0,207.9,105.0,17.67,108.2,89.0,4.87,12.9,5.0,3.48,1.0]    |\n",
      "|[96.0,408.0,0.0,208.1,93.0,189.2,107.0,16.08,279.6,90.0,12.58,7.4,2.0,2.0,1.0]     |\n",
      "|[178.0,415.0,22.0,112.8,66.0,232.6,100.0,19.77,194.8,119.0,8.77,14.3,3.0,3.86,1.0] |\n",
      "|[75.0,415.0,0.0,225.3,124.0,228.0,81.0,19.38,254.3,106.0,11.44,11.7,3.0,3.16,1.0]  |\n",
      "|[106.0,415.0,25.0,169.4,105.0,240.5,108.0,20.44,159.4,114.0,7.17,13.9,5.0,3.75,4.0]|\n",
      "|[158.0,510.0,0.0,193.3,121.0,208.1,97.0,17.69,228.1,99.0,10.26,7.1,9.0,1.92,1.0]   |\n",
      "+-----------------------------------------------------------------------------------+\n",
      "only showing top 20 rows\n",
      "\n"
     ]
    }
   ],
   "source": [
    "output1 = assembler.transform(df1)\n",
    "output1.select(\"features\").show(truncate=False)"
   ]
  },
  {
   "cell_type": "code",
   "execution_count": 18,
   "metadata": {},
   "outputs": [],
   "source": [
    "featureIndexer1= VectorIndexer(inputCol=\"features\", outputCol=\"indexedFeatures\", maxCategories=4).fit(output1)"
   ]
  },
  {
   "cell_type": "code",
   "execution_count": 19,
   "metadata": {},
   "outputs": [],
   "source": [
    "predictions = model.transform(output1)"
   ]
  },
  {
   "cell_type": "markdown",
   "metadata": {},
   "source": [
    "### Select (prediction, true label) and compute test error"
   ]
  },
  {
   "cell_type": "code",
   "execution_count": 21,
   "metadata": {},
   "outputs": [
    {
     "name": "stdout",
     "output_type": "stream",
     "text": [
      "Test Error = 0.074985\n",
      "Accuracy=0.925015\n"
     ]
    }
   ],
   "source": [
    "\n",
    "evaluator = MulticlassClassificationEvaluator(\n",
    "labelCol=\"newlabel\", predictionCol=\"prediction\", metricName=\"accuracy\")\n",
    "accuracy = evaluator.evaluate(predictions)\n",
    "print(\"Test Error = %g\" % (1.0 - accuracy))\n",
    "print(\"Accuracy=%g\" %accuracy)"
   ]
  },
  {
   "cell_type": "code",
   "execution_count": 22,
   "metadata": {},
   "outputs": [
    {
     "name": "stdout",
     "output_type": "stream",
     "text": [
      "GBTClassificationModel (uid=GBTClassifier_4ddf975623932297043e) with 10 trees\n"
     ]
    }
   ],
   "source": [
    "gbtModel = model.stages[2]\n",
    "print(gbtModel)  # summary only"
   ]
  },
  {
   "cell_type": "code",
   "execution_count": null,
   "metadata": {},
   "outputs": [],
   "source": []
  }
 ],
 "metadata": {
  "kernelspec": {
   "display_name": "Python 3",
   "language": "python",
   "name": "python3"
  },
  "language_info": {
   "codemirror_mode": {
    "name": "ipython",
    "version": 3
   },
   "file_extension": ".py",
   "mimetype": "text/x-python",
   "name": "python",
   "nbconvert_exporter": "python",
   "pygments_lexer": "ipython3",
   "version": "3.6.4"
  }
 },
 "nbformat": 4,
 "nbformat_minor": 2
}
